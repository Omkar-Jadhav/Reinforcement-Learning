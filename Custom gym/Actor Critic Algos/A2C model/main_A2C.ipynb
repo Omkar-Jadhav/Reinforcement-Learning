{
 "cells": [
  {
   "cell_type": "code",
   "execution_count": 1,
   "metadata": {},
   "outputs": [],
   "source": [
    "# Raw Package\n",
    "import numpy as np\n",
    "import pandas as pd\n",
    "import os\n",
    "from actor_critic import *\n",
    "import pandas as pd\n",
    "import matplotlib.pyplot as plt\n",
    "import pickle as pkl\n",
    "#Data Source \n",
    "import yfinance as yf\n",
    "\n",
    "#Data viz\n",
    "import plotly.graph_objs as go\n",
    "import gym\n",
    "from Stock_market_env import CustomDiscreteEnv"
   ]
  },
  {
   "cell_type": "code",
   "execution_count": 2,
   "metadata": {},
   "outputs": [
    {
     "name": "stdout",
     "output_type": "stream",
     "text": [
      "[*********************100%***********************]  1 of 1 completed\n"
     ]
    }
   ],
   "source": [
    "data = pd.DataFrame(yf.download(tickers='HDFCBANK.NS', period='5d', interval='15m'))\n",
    "data = data.reset_index(drop = True)\n",
    "env = CustomDiscreteEnv(data)"
   ]
  },
  {
   "cell_type": "code",
   "execution_count": 4,
   "metadata": {},
   "outputs": [
    {
     "name": "stderr",
     "output_type": "stream",
     "text": [
      "\n",
      "KeyboardInterrupt\n",
      "\n"
     ]
    }
   ],
   "source": [
    "if __name__=='__main__':\n",
    "    directory = 'D:\\Reinforcement Learning\\My codes\\Custom gym'\n",
    "    env_name = 'stock trading test'\n",
    "    \n",
    "    if (not os.path.exists(directory+'/'+'models/'+str(env_name)+'/')):\n",
    "        os.makedirs(directory+'/'+'models/'+str(env_name)+'/')\n",
    "    if (not os.path.exists(directory +'/'+ 'plots/'+str(env_name)+'/')):\n",
    "        os.makedirs(directory+'/'+'plots/'+str(env_name)+'/')\n",
    "    if (not os.path.exists(directory+'/'+'pickle/'+str(env_name)+'/')):\n",
    "        os.makedirs(directory+'/'+'pickle/'+str(env_name)+'/')\n",
    "      \n",
    "    figure_file = directory+'/'+'plots/'+str(env_name)+'/'+env_name +'.png'\n",
    "    pickle_file  = directory+'/'+'pickle/'+str(env_name)+'/'\n",
    "    model_file  =directory+'/'+'models/'+str(env_name)+'/'\n",
    "      \n",
    "        \n",
    "    N=20\n",
    "    batch_size = 5\n",
    "    n_epochs =5\n",
    "    alpha = 0.0001\n",
    "    n_steps, total_n_steps,learn_iters = 0, 0, 0\n",
    "    n_episodes = 10\n",
    "    score_history = []\n",
    "    max_steps = 500\n",
    "    prev_n_episodes = 0\n",
    "    best_score = -np.inf\n",
    "    input_dims = (1, env.observation_space.shape[0], env.observation_space.shape[1])\n",
    "    \n",
    "    train = True\n",
    "    load_checkpoint = False\n",
    "    \n",
    "    agent = Agent(n_actions= 3,\n",
    "                  lr = alpha, fc1_dims=256, fc2_dims=256,\n",
    "                  input_dims= input_dims, pickle_file=pickle_file, chkpt_dir=model_file)\n",
    "    \n",
    "    if load_checkpoint:\n",
    "        agent.load_models()\n",
    "        score_history = pkl.load(agent.pklObj)\n",
    "        prev_n_episodes = pkl.load(agent.pklObj)\n",
    "        total_n_steps = pkl.load(agent.pklObj)\n",
    "        learn_iters = pkl.load(agent.pklObj)\n",
    "    \n",
    "    \n",
    "    for i in range(prev_n_episodes, n_episodes):\n",
    "        observation = env.reset()\n",
    "        done = False\n",
    "        score = 0\n",
    "        n_steps = 0\n",
    "        while not done and n_steps<max_steps:\n",
    "            action, prob, val = agent.choose_action(observation)\n",
    "            \n",
    "            observation_, reward, done, info = env.step(action)\n",
    "            score += reward\n",
    "            \n",
    "            n_steps+=1\n",
    "            total_n_steps += 1\n",
    "            \n",
    "            agent.remember(observation, action, prob, val, reward, done)\n",
    "            if n_steps % N ==0:\n",
    "                if train:\n",
    "                    agent.learn()\n",
    "                    learn_iters += 1\n",
    "                    \n",
    "                \n",
    "            observation = observation_\n",
    "            \n",
    "        score_history.append(score)\n",
    "        avg_score = np.mean(score_history[-20:])\n",
    "        \n",
    "        if train:  \n",
    "            if score > best_score or (i == n_episodes-1):\n",
    "                best_score = score\n",
    "                agent.save_models()\n",
    "                \n",
    "                pkl.dump(score_history, agent.pklObj)\n",
    "                pkl.dump(i, agent.pklObj)\n",
    "                pkl.dump(total_n_steps, agent.pklObj)\n",
    "                pkl.dump(learn_iters, agent.pklObj)\n",
    "                \n",
    "        \n",
    "        \n",
    "        print('Episode ',i , 'Score %.1f' %score, 'Best score %.1f ' %best_score ,'Avg score %.1f' %avg_score,\n",
    "                'time_steps', total_n_steps, 'learning_steps', learn_iters)"
   ]
  }
 ],
 "metadata": {
  "interpreter": {
   "hash": "c34fa1ef26f870bf898be3f80151dfc7cfd794b7630c015fb4b60f1cf4ddf8a7"
  },
  "kernelspec": {
   "display_name": "Python 3.8.12 ('RL')",
   "language": "python",
   "name": "python3"
  },
  "language_info": {
   "codemirror_mode": {
    "name": "ipython",
    "version": 3
   },
   "file_extension": ".py",
   "mimetype": "text/x-python",
   "name": "python",
   "nbconvert_exporter": "python",
   "pygments_lexer": "ipython3",
   "version": "3.8.12"
  },
  "orig_nbformat": 4
 },
 "nbformat": 4,
 "nbformat_minor": 2
}
