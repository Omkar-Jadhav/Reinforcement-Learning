{
 "cells": [
  {
   "cell_type": "code",
   "execution_count": 1,
   "metadata": {},
   "outputs": [],
   "source": [
    "# Raw Package\n",
    "import numpy as np\n",
    "import pandas as pd\n",
    "import os\n",
    "from ppo_torch_copy import *\n",
    "import pandas as pd\n",
    "import matplotlib.pyplot as plt\n",
    "import pickle as pkl\n",
    "#Data Source \n",
    "import yfinance as yf\n",
    "\n",
    "#Data viz\n",
    "import plotly.graph_objs as go\n",
    "import gym\n",
    "from Stock_market_env import CustomDiscreteEnv"
   ]
  },
  {
   "cell_type": "code",
   "execution_count": 2,
   "metadata": {},
   "outputs": [
    {
     "name": "stdout",
     "output_type": "stream",
     "text": [
      "[*********************100%***********************]  1 of 1 completed\n"
     ]
    }
   ],
   "source": [
    "data = pd.DataFrame(yf.download(tickers='HDFCBANK.NS', period='1y', interval='1d'))\n",
    "data = data.reset_index(drop = True)\n",
    "env = CustomDiscreteEnv(data)\n",
    "data.to_csv('HDFCBANK.csv', index=True)"
   ]
  },
  {
   "cell_type": "code",
   "execution_count": 18,
   "metadata": {},
   "outputs": [
    {
     "name": "stdout",
     "output_type": "stream",
     "text": [
      "Episode  0 Score 18643.0 Best score 18643.0  Avg score 18643.0 Best Avg score -inf time_steps 500 learning_steps 25\n",
      "Episode  1 Score 25115.8 Best score 25115.8  Avg score 21879.4 Best Avg score -inf time_steps 1000 learning_steps 50\n"
     ]
    },
    {
     "ename": "KeyboardInterrupt",
     "evalue": "",
     "output_type": "error",
     "traceback": [
      "\u001b[1;31m---------------------------------------------------------------------------\u001b[0m",
      "\u001b[1;31mKeyboardInterrupt\u001b[0m                         Traceback (most recent call last)",
      "\u001b[1;32m~\\AppData\\Local\\Temp/ipykernel_16312/881879805.py\u001b[0m in \u001b[0;36m<module>\u001b[1;34m\u001b[0m\n\u001b[0;32m     64\u001b[0m             \u001b[1;32mif\u001b[0m \u001b[0mn_steps\u001b[0m \u001b[1;33m%\u001b[0m \u001b[0mN\u001b[0m \u001b[1;33m==\u001b[0m\u001b[1;36m0\u001b[0m\u001b[1;33m:\u001b[0m\u001b[1;33m\u001b[0m\u001b[1;33m\u001b[0m\u001b[0m\n\u001b[0;32m     65\u001b[0m                 \u001b[1;32mif\u001b[0m \u001b[0mtrain\u001b[0m\u001b[1;33m:\u001b[0m\u001b[1;33m\u001b[0m\u001b[1;33m\u001b[0m\u001b[0m\n\u001b[1;32m---> 66\u001b[1;33m                     \u001b[0magent\u001b[0m\u001b[1;33m.\u001b[0m\u001b[0mlearn\u001b[0m\u001b[1;33m(\u001b[0m\u001b[1;33m)\u001b[0m\u001b[1;33m\u001b[0m\u001b[1;33m\u001b[0m\u001b[0m\n\u001b[0m\u001b[0;32m     67\u001b[0m                     \u001b[0mlearn_iters\u001b[0m \u001b[1;33m+=\u001b[0m \u001b[1;36m1\u001b[0m\u001b[1;33m\u001b[0m\u001b[1;33m\u001b[0m\u001b[0m\n\u001b[0;32m     68\u001b[0m \u001b[1;33m\u001b[0m\u001b[0m\n",
      "\u001b[1;32md:\\Reinforcement Learning\\My codes\\Custom gym\\ppo_torch_copy.py\u001b[0m in \u001b[0;36mlearn\u001b[1;34m(self)\u001b[0m\n\u001b[0;32m    224\u001b[0m                 \u001b[0mself\u001b[0m\u001b[1;33m.\u001b[0m\u001b[0mactor\u001b[0m\u001b[1;33m.\u001b[0m\u001b[0moptimizer\u001b[0m\u001b[1;33m.\u001b[0m\u001b[0mzero_grad\u001b[0m\u001b[1;33m(\u001b[0m\u001b[1;33m)\u001b[0m\u001b[1;33m\u001b[0m\u001b[1;33m\u001b[0m\u001b[0m\n\u001b[0;32m    225\u001b[0m                 \u001b[0mself\u001b[0m\u001b[1;33m.\u001b[0m\u001b[0mcritic\u001b[0m\u001b[1;33m.\u001b[0m\u001b[0moptimizer\u001b[0m\u001b[1;33m.\u001b[0m\u001b[0mzero_grad\u001b[0m\u001b[1;33m(\u001b[0m\u001b[1;33m)\u001b[0m\u001b[1;33m\u001b[0m\u001b[1;33m\u001b[0m\u001b[0m\n\u001b[1;32m--> 226\u001b[1;33m                 \u001b[0mtotal_loss\u001b[0m\u001b[1;33m.\u001b[0m\u001b[0mbackward\u001b[0m\u001b[1;33m(\u001b[0m\u001b[1;33m)\u001b[0m\u001b[1;33m\u001b[0m\u001b[1;33m\u001b[0m\u001b[0m\n\u001b[0m\u001b[0;32m    227\u001b[0m                 \u001b[0mself\u001b[0m\u001b[1;33m.\u001b[0m\u001b[0mactor\u001b[0m\u001b[1;33m.\u001b[0m\u001b[0moptimizer\u001b[0m\u001b[1;33m.\u001b[0m\u001b[0mstep\u001b[0m\u001b[1;33m(\u001b[0m\u001b[1;33m)\u001b[0m\u001b[1;33m\u001b[0m\u001b[1;33m\u001b[0m\u001b[0m\n\u001b[0;32m    228\u001b[0m                 \u001b[0mself\u001b[0m\u001b[1;33m.\u001b[0m\u001b[0mcritic\u001b[0m\u001b[1;33m.\u001b[0m\u001b[0moptimizer\u001b[0m\u001b[1;33m.\u001b[0m\u001b[0mstep\u001b[0m\u001b[1;33m(\u001b[0m\u001b[1;33m)\u001b[0m\u001b[1;33m\u001b[0m\u001b[1;33m\u001b[0m\u001b[0m\n",
      "\u001b[1;32m~\\anaconda3\\envs\\RL\\lib\\site-packages\\torch\\_tensor.py\u001b[0m in \u001b[0;36mbackward\u001b[1;34m(self, gradient, retain_graph, create_graph, inputs)\u001b[0m\n\u001b[0;32m    253\u001b[0m                 \u001b[0mcreate_graph\u001b[0m\u001b[1;33m=\u001b[0m\u001b[0mcreate_graph\u001b[0m\u001b[1;33m,\u001b[0m\u001b[1;33m\u001b[0m\u001b[1;33m\u001b[0m\u001b[0m\n\u001b[0;32m    254\u001b[0m                 inputs=inputs)\n\u001b[1;32m--> 255\u001b[1;33m         \u001b[0mtorch\u001b[0m\u001b[1;33m.\u001b[0m\u001b[0mautograd\u001b[0m\u001b[1;33m.\u001b[0m\u001b[0mbackward\u001b[0m\u001b[1;33m(\u001b[0m\u001b[0mself\u001b[0m\u001b[1;33m,\u001b[0m \u001b[0mgradient\u001b[0m\u001b[1;33m,\u001b[0m \u001b[0mretain_graph\u001b[0m\u001b[1;33m,\u001b[0m \u001b[0mcreate_graph\u001b[0m\u001b[1;33m,\u001b[0m \u001b[0minputs\u001b[0m\u001b[1;33m=\u001b[0m\u001b[0minputs\u001b[0m\u001b[1;33m)\u001b[0m\u001b[1;33m\u001b[0m\u001b[1;33m\u001b[0m\u001b[0m\n\u001b[0m\u001b[0;32m    256\u001b[0m \u001b[1;33m\u001b[0m\u001b[0m\n\u001b[0;32m    257\u001b[0m     \u001b[1;32mdef\u001b[0m \u001b[0mregister_hook\u001b[0m\u001b[1;33m(\u001b[0m\u001b[0mself\u001b[0m\u001b[1;33m,\u001b[0m \u001b[0mhook\u001b[0m\u001b[1;33m)\u001b[0m\u001b[1;33m:\u001b[0m\u001b[1;33m\u001b[0m\u001b[1;33m\u001b[0m\u001b[0m\n",
      "\u001b[1;32m~\\anaconda3\\envs\\RL\\lib\\site-packages\\torch\\autograd\\__init__.py\u001b[0m in \u001b[0;36mbackward\u001b[1;34m(tensors, grad_tensors, retain_graph, create_graph, grad_variables, inputs)\u001b[0m\n\u001b[0;32m    145\u001b[0m         \u001b[0mretain_graph\u001b[0m \u001b[1;33m=\u001b[0m \u001b[0mcreate_graph\u001b[0m\u001b[1;33m\u001b[0m\u001b[1;33m\u001b[0m\u001b[0m\n\u001b[0;32m    146\u001b[0m \u001b[1;33m\u001b[0m\u001b[0m\n\u001b[1;32m--> 147\u001b[1;33m     Variable._execution_engine.run_backward(\n\u001b[0m\u001b[0;32m    148\u001b[0m         \u001b[0mtensors\u001b[0m\u001b[1;33m,\u001b[0m \u001b[0mgrad_tensors_\u001b[0m\u001b[1;33m,\u001b[0m \u001b[0mretain_graph\u001b[0m\u001b[1;33m,\u001b[0m \u001b[0mcreate_graph\u001b[0m\u001b[1;33m,\u001b[0m \u001b[0minputs\u001b[0m\u001b[1;33m,\u001b[0m\u001b[1;33m\u001b[0m\u001b[1;33m\u001b[0m\u001b[0m\n\u001b[0;32m    149\u001b[0m         allow_unreachable=True, accumulate_grad=True)  # allow_unreachable flag\n",
      "\u001b[1;31mKeyboardInterrupt\u001b[0m: "
     ]
    }
   ],
   "source": [
    "if __name__=='__main__':\n",
    "    directory = 'D:\\Reinforcement Learning\\My codes\\Custom gym'\n",
    "    env_name = 'stock trading test'\n",
    "    \n",
    "    if (not os.path.exists(directory+'/'+'models/'+str(env_name)+'/')):\n",
    "        os.makedirs(directory+'/'+'models/'+str(env_name)+'/')\n",
    "    if (not os.path.exists(directory +'/'+ 'plots/'+str(env_name)+'/')):\n",
    "        os.makedirs(directory+'/'+'plots/'+str(env_name)+'/')\n",
    "    if (not os.path.exists(directory+'/'+'pickle/'+str(env_name)+'/')):\n",
    "        os.makedirs(directory+'/'+'pickle/'+str(env_name)+'/')\n",
    "      \n",
    "    figure_file = directory+'/'+'plots/'+str(env_name)+'/'+env_name +'.png'\n",
    "    pickle_file  = directory+'/'+'pickle/'+str(env_name)+'/'\n",
    "    model_file  =directory+'/'+'models/'+str(env_name)+'/'\n",
    "      \n",
    "    n_episodes = 150\n",
    "        \n",
    "    N=20\n",
    "    batch_size = 5\n",
    "    n_epochs =5\n",
    "    alpha = 0.00001\n",
    "    n_steps, total_n_steps,learn_iters = 0, 0, 0\n",
    "    score_history = []\n",
    "    max_steps = 500\n",
    "    prev_n_episodes = 0\n",
    "    best_score = -np.inf\n",
    "    best_avg_score = -np.inf\n",
    "    input_dims = (1, env.observation_space.shape[0], env.observation_space.shape[1])\n",
    "    \n",
    "    actions = []\n",
    "    train = True\n",
    "    load_checkpoint = False\n",
    "    \n",
    "    agent = Agent(n_actions= 3, batch_size = batch_size,\n",
    "                  alpha = alpha, n_epochs=n_epochs, \n",
    "                  input_dims= input_dims, pickle_file=pickle_file, model_file=model_file)\n",
    "    \n",
    "    if load_checkpoint:\n",
    "        agent.load_models()\n",
    "        score_history = pkl.load(agent.pklObj)\n",
    "        prev_n_episodes = pkl.load(agent.pklObj)\n",
    "        total_n_steps = pkl.load(agent.pklObj)\n",
    "        learn_iters = pkl.load(agent.pklObj)\n",
    "        best_avg_score = pkl.load(agent.pklObj)\n",
    "        actions = pkl.load(agent.pklObj)\n",
    "    \n",
    "    \n",
    "    for i in range(prev_n_episodes, n_episodes):\n",
    "        observation = env.reset()\n",
    "        done = False\n",
    "        score = 0\n",
    "        n_steps = 0\n",
    "        while not done and n_steps<max_steps:\n",
    "            action, prob, val = agent.choose_action(observation)\n",
    "            actions.append(action)\n",
    "            \n",
    "            observation_, reward, done, info = env.step(action)\n",
    "            score += reward\n",
    "            \n",
    "            n_steps+=1\n",
    "            total_n_steps += 1\n",
    "            \n",
    "            agent.remember(observation, action, prob, val, reward, done)\n",
    "            if n_steps % N ==0:\n",
    "                if train:\n",
    "                    agent.learn()\n",
    "                    learn_iters += 1\n",
    "                    \n",
    "                \n",
    "            observation = observation_\n",
    "            \n",
    "        score_history.append(score)\n",
    "        avg_score = np.mean(score_history[-20:])\n",
    "        \n",
    "        if score> best_score:\n",
    "            best_score = score\n",
    "        \n",
    "        if train and i>5:  \n",
    "            if avg_score > best_avg_score:\n",
    "                best_avg_score = avg_score\n",
    "                agent.save_models()\n",
    "                \n",
    "                pkl.dump(score_history, agent.pklObj)\n",
    "                pkl.dump(i, agent.pklObj)\n",
    "                pkl.dump(total_n_steps, agent.pklObj)\n",
    "                pkl.dump(learn_iters, agent.pklObj)\n",
    "                pkl.dump(best_avg_score,agent.pklObj)\n",
    "                pkl.dump(actions, agent.pklObj)\n",
    "                \n",
    "        \n",
    "        \n",
    "        print('Episode ',i , 'Score %.1f' %score, 'Best score %.1f ' %best_score ,'Avg score %.1f' %avg_score, 'Best Avg score %.1f' %best_avg_score,\n",
    "                'time_steps', total_n_steps, 'learning_steps', learn_iters)"
   ]
  },
  {
   "cell_type": "code",
   "execution_count": 16,
   "metadata": {},
   "outputs": [
    {
     "data": {
      "text/plain": [
       "(array([22835., 20614., 32051.]),\n",
       " array([0.        , 0.66666667, 1.33333333, 2.        ]),\n",
       " <BarContainer object of 3 artists>)"
      ]
     },
     "execution_count": 16,
     "metadata": {},
     "output_type": "execute_result"
    },
    {
     "data": {
      "image/png": "[encoded data removed]",
      "text/plain": [
       "<Figure size 432x288 with 1 Axes>"
      ]
     },
     "metadata": {
      "needs_background": "light"
     },
     "output_type": "display_data"
    }
   ],
   "source": [
    "plt.hist(actions,bins = 3)"
   ]
  },
  {
   "cell_type": "code",
   "execution_count": 17,
   "metadata": {},
   "outputs": [
    {
     "data": {
      "text/plain": [
       "[<matplotlib.lines.Line2D at 0x1b72beecfd0>]"
      ]
     },
     "execution_count": 17,
     "metadata": {},
     "output_type": "execute_result"
    },
    {
     "data": {
      "image/png": "[encoded data removed]",
      "text/plain": [
       "<Figure size 432x288 with 1 Axes>"
      ]
     },
     "metadata": {
      "needs_background": "light"
     },
     "output_type": "display_data"
    }
   ],
   "source": [
    "plt.plot(actions)"
   ]
  },
  {
   "cell_type": "code",
   "execution_count": 14,
   "metadata": {},
   "outputs": [
    {
     "data": {
      "text/plain": [
       "(array([ 4059.,  7428., 38513.]),\n",
       " array([0.        , 0.66666667, 1.33333333, 2.        ]),\n",
       " <BarContainer object of 3 artists>)"
      ]
     },
     "execution_count": 14,
     "metadata": {},
     "output_type": "execute_result"
    },
    {
     "data": {
      "image/png": "[encoded data removed]",
      "text/plain": [
       "<Figure size 432x288 with 1 Axes>"
      ]
     },
     "metadata": {
      "needs_background": "light"
     },
     "output_type": "display_data"
    }
   ],
   "source": []
  },
  {
   "cell_type": "code",
   "execution_count": 7,
   "metadata": {},
   "outputs": [
    {
     "data": {
      "text/plain": [
       "[<matplotlib.lines.Line2D at 0x1b72bcd36d0>]"
      ]
     },
     "execution_count": 7,
     "metadata": {},
     "output_type": "execute_result"
    },
    {
     "data": {
      "image/png": "[encoded data removed]",
      "text/plain": [
       "<Figure size 432x288 with 1 Axes>"
      ]
     },
     "metadata": {
      "needs_background": "light"
     },
     "output_type": "display_data"
    }
   ],
   "source": [
    "# plt.plot(score_history)\n",
    "avg_scores = [np.mean(score_history[i:i+20]) for i in range(0, len(score_history)-20)]\n",
    "plt.plot(avg_scores)"
   ]
  }
 ],
 "metadata": {
  "interpreter": {
   "hash": "c34fa1ef26f870bf898be3f80151dfc7cfd794b7630c015fb4b60f1cf4ddf8a7"
  },
  "kernelspec": {
   "display_name": "Python 3.8.12 ('RL')",
   "language": "python",
   "name": "python3"
  },
  "language_info": {
   "codemirror_mode": {
    "name": "ipython",
    "version": 3
   },
   "file_extension": ".py",
   "mimetype": "text/x-python",
   "name": "python",
   "nbconvert_exporter": "python",
   "pygments_lexer": "ipython3",
   "version": "3.8.12"
  },
  "orig_nbformat": 4
 },
 "nbformat": 4,
 "nbformat_minor": 2
}
