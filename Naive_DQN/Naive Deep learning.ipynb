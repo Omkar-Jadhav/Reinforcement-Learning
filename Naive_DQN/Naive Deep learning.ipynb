{
 "cells": [
  {
   "cell_type": "markdown",
   "metadata": {},
   "source": [
    "# 1. Importing libraries"
   ]
  },
  {
   "cell_type": "code",
   "execution_count": 1,
   "metadata": {},
   "outputs": [],
   "source": [
    "import gym\n",
    "import numpy as np\n",
    "import torch.nn as nn\n",
    "import torch.optim as optim\n",
    "import torch as T \n",
    "import torch.nn.functional as F\n",
    "from util import plot_learning_curve"
   ]
  },
  {
   "cell_type": "markdown",
   "metadata": {},
   "source": [
    "# 2. DQN Class"
   ]
  },
  {
   "cell_type": "markdown",
   "metadata": {},
   "source": [
    "Defining the network for the agent"
   ]
  },
  {
   "cell_type": "code",
   "execution_count": 2,
   "metadata": {},
   "outputs": [],
   "source": [
    "class LinearDeepNetwork(nn.Module):\n",
    "    def __init__(self, lr, n_actions, input_dims):\n",
    "        super(LinearDeepNetwork, self).__init__()\n",
    "\n",
    "        self.fc1 = nn.Linear(*input_dims, 128)\n",
    "        self.fc2 = nn.Linear(128, n_actions)\n",
    "\n",
    "        self.optimizer = optim.Adam(self.parameters(), lr)\n",
    "        self.loss  = nn.MSELoss()\n",
    "        self.device = T.device('cuda:0' if T.cuda.is_available() else 'cpu')\n",
    "        self.to(self.device)\n",
    "\n",
    "    def forward(self, state):\n",
    "        layer1 = F.relu(self.fc1(state))\n",
    "        actions = self.fc2(layer1)\n",
    "\n",
    "        return actions"
   ]
  },
  {
   "cell_type": "markdown",
   "metadata": {},
   "source": [
    "# 3. Agent class"
   ]
  },
  {
   "cell_type": "markdown",
   "metadata": {},
   "source": [
    "Initializing the agent network and agents action functions"
   ]
  },
  {
   "cell_type": "code",
   "execution_count": 3,
   "metadata": {},
   "outputs": [],
   "source": [
    "class Agent():\n",
    "    def __init__(self, n_actions, lr, input_dims, gamma = 0.99, epsilon = 1.0, eps_dec = 1e-5, eps_min = 0.01):\n",
    "\n",
    "        self.lr = lr\n",
    "        self.input_dims = input_dims\n",
    "        self.gamma = gamma\n",
    "        self.epsilon = epsilon \n",
    "        self.eps_dec = eps_dec\n",
    "        self.eps_min = eps_min\n",
    "        self.n_actions = n_actions\n",
    "        self.action_space = [i for i in range(self.n_actions)]\n",
    "\n",
    "        self.Q = LinearDeepNetwork(self.lr, self.n_actions, self.input_dims)\n",
    "\n",
    "    def choose_action(self, observation):\n",
    "        if np.random.random() > self.epsilon:\n",
    "            state = T.tensor(observation, dtype = T.float).to(self.Q.device)\n",
    "            actions= self.Q.forward(state)\n",
    "            action = T.argmax(actions).item()\n",
    "        else:\n",
    "            action = np.random.choice(self.action_space)\n",
    "        \n",
    "        return action\n",
    "\n",
    "    def decrement_epsilon(self):\n",
    "        self.epsilon = self.epsilon - ( self.eps_dec *self.epsilon if self.epsilon > self.eps_min else self.eps_min)\n",
    "\n",
    "    def learn(self, state, action,reward,state_):\n",
    "        self.Q.optimizer.zero_grad()\n",
    "        \n",
    "        states = T.tensor(state, dtype = T.float).to(self.Q.device)\n",
    "        actions = T.tensor(action).to(self.Q.device)\n",
    "        rewards = T.tensor(reward).to(self.Q.device)\n",
    "        states_ =  T.tensor(state_, dtype = T.float).to(self.Q.device)\n",
    "\n",
    "        q_pred = self.Q.forward(states)[actions]\n",
    "\n",
    "        q_next = self.Q.forward(states_).max()\n",
    "\n",
    "        q_target = reward + self.gamma * q_next\n",
    "        \n",
    "        loss = self.Q.loss(q_target, q_pred). to(self.Q.device)\n",
    "\n",
    "        loss.backward()\n",
    "\n",
    "        self.Q.optimizer.step()\n",
    "        self.decrement_epsilon()\n"
   ]
  },
  {
   "cell_type": "markdown",
   "metadata": {},
   "source": [
    "# 4. Main loop"
   ]
  },
  {
   "cell_type": "code",
   "execution_count": 5,
   "metadata": {},
   "outputs": [
    {
     "name": "stdout",
     "output_type": "stream",
     "text": [
      "episode  0 score 31.0 avg score 31.0 epsilon 0.999690\n",
      "episode  100 score 16.0 avg score 23.5 epsilon 0.976481\n",
      "episode  200 score 21.0 avg score 23.0 epsilon 0.954249\n",
      "episode  300 score 19.0 avg score 20.1 epsilon 0.935223\n",
      "episode  400 score 19.0 avg score 23.4 epsilon 0.913611\n"
     ]
    },
    {
     "data": {
      "image/png": "[encoded data removed]",
      "text/plain": [
       "<Figure size 432x288 with 2 Axes>"
      ]
     },
     "metadata": {
      "needs_background": "light"
     },
     "output_type": "display_data"
    }
   ],
   "source": [
    "if __name__ == '__main__':\n",
    "    env = gym.make('CartPole-v0')\n",
    "    n_games = 500\n",
    "    scores = []\n",
    "    eps_history = []\n",
    "    \n",
    "    # Initializing the agent class and its actions\n",
    "    agent =Agent(input_dims = env.observation_space.shape, n_actions= env.action_space.n, lr = 0.0001)\n",
    "\n",
    "    for i in range(n_games):\n",
    "        score = 0\n",
    "        done = False\n",
    "        obs = env.reset()\n",
    "\n",
    "        while not done:\n",
    "            action = agent.choose_action(obs)\n",
    "            obs_, reward, done, info = env.step(action)\n",
    "            agent.learn(obs, action, reward, obs_)\n",
    "            obs = obs_\n",
    "            score += reward\n",
    "\n",
    "        scores.append(score)\n",
    "        eps_history.append(agent.epsilon)\n",
    "\n",
    "        if i % 100 == 0:\n",
    "            avg_score = np.mean(scores[-100:])\n",
    "            print('episode ', i, 'score %.1f avg score %.1f epsilon %2f' %(score, avg_score, agent.epsilon))\n",
    "\n",
    "\n",
    "    filename = 'cartpole_naive_dqn.png'\n",
    "    x = [ i+1 for i in range(n_games)]\n",
    "\n",
    "    plot_learning_curve(x, scores, eps_history, filename)\n"
   ]
  },
  {
   "cell_type": "markdown",
   "metadata": {},
   "source": [
    "# Plotting the data"
   ]
  },
  {
   "cell_type": "code",
   "execution_count": null,
   "metadata": {},
   "outputs": [],
   "source": [
    "import matplotlib.pyplot as plt \n",
    "import numpy as np\n",
    "def plot_learning_curve(x, scores, epsilons, filename):\n",
    "    fig =plt.figure()\n",
    "    ax= fig.add_subplot(111, label ='1')\n",
    "    ax2= fig.add_subplot(111, label ='2')\n",
    "\n",
    "    ax.plot(x, epsilons, color = 'C0')\n",
    "    ax.set_xlabel('Training steps', color = \"C0\")\n",
    "    ax.set_ylabel(\"Epsilons\", color = \"C0\")\n",
    "    ax.tick_params(axis = 'x', color = \"C0\")\n",
    "    ax.tick_params(axis = 'y', color = \"C0\")\n",
    "\n",
    "    N=len(scores)\n",
    "\n",
    "    running_avg = np.empty(N)\n",
    "\n",
    "    for t in range(N):\n",
    "        running_avg[t] = np.mean(scores[max(0, t-100): (t+1)])\n",
    "\n",
    "    ax2.scatter(x, running_avg , color = \"C1\")\n",
    "    ax2.axes.get_xaxis().set_visible(False)\n",
    "    ax2.yaxis.tick_right()\n",
    "    ax2.set_ylabel('Score', color = \"C1\")\n",
    "    ax2.yaxis.set_label_position('right')\n",
    "    ax2.tick_params(axis='y', color = \"C1\")\n",
    "\n",
    "    plt.savefig(filename)"
   ]
  }
 ],
 "metadata": {
  "interpreter": {
   "hash": "c34fa1ef26f870bf898be3f80151dfc7cfd794b7630c015fb4b60f1cf4ddf8a7"
  },
  "kernelspec": {
   "display_name": "Python 3.6.13 64-bit ('RL': conda)",
   "name": "python3"
  },
  "language_info": {
   "codemirror_mode": {
    "name": "ipython",
    "version": 3
   },
   "file_extension": ".py",
   "mimetype": "text/x-python",
   "name": "python",
   "nbconvert_exporter": "python",
   "pygments_lexer": "ipython3",
   "version": "3.8.12"
  },
  "orig_nbformat": 4
 },
 "nbformat": 4,
 "nbformat_minor": 2
}
