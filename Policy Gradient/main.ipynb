{
 "cells": [
  {
   "cell_type": "markdown",
   "metadata": {},
   "source": [
    "### Imports"
   ]
  },
  {
   "cell_type": "code",
   "execution_count": 1,
   "metadata": {},
   "outputs": [],
   "source": [
    "import gym\n",
    "import numpy as np\n",
    "from PL_agent import Agent\n",
    "from utils import plotLearning\n",
    "import os\n",
    "import pickle as pkl\n",
    "import tensorflow as tf"
   ]
  },
  {
   "cell_type": "markdown",
   "metadata": {},
   "source": [
    "### main"
   ]
  },
  {
   "cell_type": "code",
   "execution_count": 4,
   "metadata": {},
   "outputs": [
    {
     "name": "stdout",
     "output_type": "stream",
     "text": [
      "... loading model...\n"
     ]
    },
    {
     "name": "stderr",
     "output_type": "stream",
     "text": [
      "WARNING:absl:Found untraced functions such as dense_3_layer_call_fn, dense_3_layer_call_and_return_conditional_losses, dense_4_layer_call_fn, dense_4_layer_call_and_return_conditional_losses, dense_5_layer_call_fn while saving (showing 5 of 15). These functions will not be directly callable after loading.\n"
     ]
    },
    {
     "name": "stdout",
     "output_type": "stream",
     "text": [
      "INFO:tensorflow:Assets written to: D:/Reinforcement Learning/My codes/Policy Gradient/models/CartPole-v0/assets\n"
     ]
    },
    {
     "name": "stderr",
     "output_type": "stream",
     "text": [
      "INFO:tensorflow:Assets written to: D:/Reinforcement Learning/My codes/Policy Gradient/models/CartPole-v0/assets\n"
     ]
    },
    {
     "name": "stdout",
     "output_type": "stream",
     "text": [
      "... saving model...\n",
      "Episode  94 score 200.0  best score 200.0 avg_score 131.1\n",
      "Episode  95 score 99.0  best score 200.0 avg_score 131.9\n",
      "Episode  96 score 53.0  best score 200.0 avg_score 128.4\n",
      "Episode  97 score 86.0  best score 200.0 avg_score 122.8\n",
      "Episode  98 score 61.0  best score 200.0 avg_score 120.3\n",
      "Episode  99 score 106.0  best score 200.0 avg_score 115.7\n",
      "Episode  100 score 101.0  best score 200.0 avg_score 113.1\n",
      "Episode  101 score 41.0  best score 200.0 avg_score 110.5\n",
      "Episode  102 score 22.0  best score 200.0 avg_score 108.2\n",
      "Episode  103 score 39.0  best score 200.0 avg_score 100.1\n",
      "Episode  104 score 147.0  best score 200.0 avg_score 101.8\n"
     ]
    },
    {
     "name": "stderr",
     "output_type": "stream",
     "text": [
      "WARNING:absl:Found untraced functions such as dense_3_layer_call_fn, dense_3_layer_call_and_return_conditional_losses, dense_4_layer_call_fn, dense_4_layer_call_and_return_conditional_losses, dense_5_layer_call_fn while saving (showing 5 of 15). These functions will not be directly callable after loading.\n"
     ]
    },
    {
     "name": "stdout",
     "output_type": "stream",
     "text": [
      "INFO:tensorflow:Assets written to: D:/Reinforcement Learning/My codes/Policy Gradient/models/CartPole-v0/assets\n"
     ]
    },
    {
     "name": "stderr",
     "output_type": "stream",
     "text": [
      "INFO:tensorflow:Assets written to: D:/Reinforcement Learning/My codes/Policy Gradient/models/CartPole-v0/assets\n"
     ]
    },
    {
     "name": "stdout",
     "output_type": "stream",
     "text": [
      "... saving model...\n",
      "Episode  105 score 200.0  best score 200.0 avg_score 101.8\n",
      "Episode  106 score 19.0  best score 200.0 avg_score 99.0\n",
      "Episode  107 score 115.0  best score 200.0 avg_score 101.8\n",
      "Episode  108 score 86.0  best score 200.0 avg_score 102.3\n"
     ]
    },
    {
     "name": "stderr",
     "output_type": "stream",
     "text": [
      "WARNING:absl:Found untraced functions such as dense_3_layer_call_fn, dense_3_layer_call_and_return_conditional_losses, dense_4_layer_call_fn, dense_4_layer_call_and_return_conditional_losses, dense_5_layer_call_fn while saving (showing 5 of 15). These functions will not be directly callable after loading.\n"
     ]
    },
    {
     "name": "stdout",
     "output_type": "stream",
     "text": [
      "INFO:tensorflow:Assets written to: D:/Reinforcement Learning/My codes/Policy Gradient/models/CartPole-v0/assets\n"
     ]
    },
    {
     "name": "stderr",
     "output_type": "stream",
     "text": [
      "INFO:tensorflow:Assets written to: D:/Reinforcement Learning/My codes/Policy Gradient/models/CartPole-v0/assets\n"
     ]
    },
    {
     "name": "stdout",
     "output_type": "stream",
     "text": [
      "... saving model...\n",
      "Episode  109 score 200.0  best score 200.0 avg_score 107.8\n",
      "Episode  110 score 140.0  best score 200.0 avg_score 105.8\n",
      "Episode  111 score 70.0  best score 200.0 avg_score 104.9\n",
      "Episode  112 score 82.0  best score 200.0 avg_score 103.3\n"
     ]
    },
    {
     "name": "stderr",
     "output_type": "stream",
     "text": [
      "WARNING:absl:Found untraced functions such as dense_3_layer_call_fn, dense_3_layer_call_and_return_conditional_losses, dense_4_layer_call_fn, dense_4_layer_call_and_return_conditional_losses, dense_5_layer_call_fn while saving (showing 5 of 15). These functions will not be directly callable after loading.\n"
     ]
    },
    {
     "name": "stdout",
     "output_type": "stream",
     "text": [
      "INFO:tensorflow:Assets written to: D:/Reinforcement Learning/My codes/Policy Gradient/models/CartPole-v0/assets\n"
     ]
    },
    {
     "name": "stderr",
     "output_type": "stream",
     "text": [
      "INFO:tensorflow:Assets written to: D:/Reinforcement Learning/My codes/Policy Gradient/models/CartPole-v0/assets\n"
     ]
    },
    {
     "name": "stdout",
     "output_type": "stream",
     "text": [
      "... saving model...\n",
      "Episode  113 score 200.0  best score 200.0 avg_score 103.3\n",
      "Episode  114 score 77.0  best score 200.0 avg_score 97.2\n",
      "Episode  115 score 166.0  best score 200.0 avg_score 100.5\n",
      "Episode  116 score 93.0  best score 200.0 avg_score 102.5\n",
      "Episode  117 score 127.0  best score 200.0 avg_score 104.6\n",
      "Episode  118 score 115.0  best score 200.0 avg_score 107.3\n",
      "Episode  119 score 117.0  best score 200.0 avg_score 107.8\n",
      "Episode  120 score 162.0  best score 200.0 avg_score 110.9\n",
      "Episode  121 score 33.0  best score 200.0 avg_score 110.5\n",
      "Episode  122 score 179.0  best score 200.0 avg_score 118.3\n",
      "Episode  123 score 143.0  best score 200.0 avg_score 123.5\n",
      "Episode  124 score 159.0  best score 200.0 avg_score 124.2\n",
      "Episode  125 score 126.0  best score 200.0 avg_score 120.5\n",
      "Episode  126 score 94.0  best score 200.0 avg_score 124.2\n",
      "Episode  127 score 127.0  best score 200.0 avg_score 124.8\n",
      "Episode  128 score 184.0  best score 200.0 avg_score 129.7\n"
     ]
    },
    {
     "name": "stderr",
     "output_type": "stream",
     "text": [
      "WARNING:absl:Found untraced functions such as dense_3_layer_call_fn, dense_3_layer_call_and_return_conditional_losses, dense_4_layer_call_fn, dense_4_layer_call_and_return_conditional_losses, dense_5_layer_call_fn while saving (showing 5 of 15). These functions will not be directly callable after loading.\n"
     ]
    },
    {
     "name": "stdout",
     "output_type": "stream",
     "text": [
      "INFO:tensorflow:Assets written to: D:/Reinforcement Learning/My codes/Policy Gradient/models/CartPole-v0/assets\n"
     ]
    },
    {
     "name": "stderr",
     "output_type": "stream",
     "text": [
      "INFO:tensorflow:Assets written to: D:/Reinforcement Learning/My codes/Policy Gradient/models/CartPole-v0/assets\n"
     ]
    },
    {
     "name": "stdout",
     "output_type": "stream",
     "text": [
      "... saving model...\n",
      "Episode  129 score 200.0  best score 200.0 avg_score 129.7\n"
     ]
    },
    {
     "name": "stderr",
     "output_type": "stream",
     "text": [
      "WARNING:absl:Found untraced functions such as dense_3_layer_call_fn, dense_3_layer_call_and_return_conditional_losses, dense_4_layer_call_fn, dense_4_layer_call_and_return_conditional_losses, dense_5_layer_call_fn while saving (showing 5 of 15). These functions will not be directly callable after loading.\n"
     ]
    },
    {
     "name": "stdout",
     "output_type": "stream",
     "text": [
      "INFO:tensorflow:Assets written to: D:/Reinforcement Learning/My codes/Policy Gradient/models/CartPole-v0/assets\n"
     ]
    },
    {
     "name": "stderr",
     "output_type": "stream",
     "text": [
      "INFO:tensorflow:Assets written to: D:/Reinforcement Learning/My codes/Policy Gradient/models/CartPole-v0/assets\n"
     ]
    },
    {
     "name": "stdout",
     "output_type": "stream",
     "text": [
      "... saving model...\n",
      "Episode  130 score 200.0  best score 200.0 avg_score 132.7\n"
     ]
    },
    {
     "name": "stderr",
     "output_type": "stream",
     "text": [
      "WARNING:absl:Found untraced functions such as dense_3_layer_call_fn, dense_3_layer_call_and_return_conditional_losses, dense_4_layer_call_fn, dense_4_layer_call_and_return_conditional_losses, dense_5_layer_call_fn while saving (showing 5 of 15). These functions will not be directly callable after loading.\n"
     ]
    },
    {
     "name": "stdout",
     "output_type": "stream",
     "text": [
      "INFO:tensorflow:Assets written to: D:/Reinforcement Learning/My codes/Policy Gradient/models/CartPole-v0/assets\n"
     ]
    },
    {
     "name": "stderr",
     "output_type": "stream",
     "text": [
      "INFO:tensorflow:Assets written to: D:/Reinforcement Learning/My codes/Policy Gradient/models/CartPole-v0/assets\n"
     ]
    },
    {
     "name": "stdout",
     "output_type": "stream",
     "text": [
      "... saving model...\n",
      "Episode  131 score 200.0  best score 200.0 avg_score 139.2\n",
      "Episode  132 score 153.0  best score 200.0 avg_score 142.8\n",
      "Episode  133 score 146.0  best score 200.0 avg_score 140.1\n",
      "Episode  134 score 154.0  best score 200.0 avg_score 143.9\n",
      "Episode  135 score 171.0  best score 200.0 avg_score 144.2\n",
      "Episode  136 score 184.0  best score 200.0 avg_score 148.7\n",
      "Episode  137 score 125.0  best score 200.0 avg_score 148.6\n",
      "Episode  138 score 183.0  best score 200.0 avg_score 152.0\n",
      "Episode  139 score 192.0  best score 200.0 avg_score 155.8\n",
      "Episode  140 score 190.0  best score 200.0 avg_score 157.2\n",
      "Episode  141 score 178.0  best score 200.0 avg_score 164.4\n"
     ]
    },
    {
     "name": "stderr",
     "output_type": "stream",
     "text": [
      "WARNING:absl:Found untraced functions such as dense_3_layer_call_fn, dense_3_layer_call_and_return_conditional_losses, dense_4_layer_call_fn, dense_4_layer_call_and_return_conditional_losses, dense_5_layer_call_fn while saving (showing 5 of 15). These functions will not be directly callable after loading.\n"
     ]
    },
    {
     "name": "stdout",
     "output_type": "stream",
     "text": [
      "INFO:tensorflow:Assets written to: D:/Reinforcement Learning/My codes/Policy Gradient/models/CartPole-v0/assets\n"
     ]
    },
    {
     "name": "stderr",
     "output_type": "stream",
     "text": [
      "INFO:tensorflow:Assets written to: D:/Reinforcement Learning/My codes/Policy Gradient/models/CartPole-v0/assets\n"
     ]
    },
    {
     "name": "stdout",
     "output_type": "stream",
     "text": [
      "... saving model...\n",
      "Episode  142 score 200.0  best score 200.0 avg_score 165.4\n",
      "Episode  143 score 75.0  best score 200.0 avg_score 162.1\n",
      "Episode  144 score 114.0  best score 200.0 avg_score 159.8\n"
     ]
    },
    {
     "name": "stderr",
     "output_type": "stream",
     "text": [
      "WARNING:absl:Found untraced functions such as dense_3_layer_call_fn, dense_3_layer_call_and_return_conditional_losses, dense_4_layer_call_fn, dense_4_layer_call_and_return_conditional_losses, dense_5_layer_call_fn while saving (showing 5 of 15). These functions will not be directly callable after loading.\n"
     ]
    },
    {
     "name": "stdout",
     "output_type": "stream",
     "text": [
      "INFO:tensorflow:Assets written to: D:/Reinforcement Learning/My codes/Policy Gradient/models/CartPole-v0/assets\n"
     ]
    },
    {
     "name": "stderr",
     "output_type": "stream",
     "text": [
      "INFO:tensorflow:Assets written to: D:/Reinforcement Learning/My codes/Policy Gradient/models/CartPole-v0/assets\n"
     ]
    },
    {
     "name": "stdout",
     "output_type": "stream",
     "text": [
      "... saving model...\n",
      "Episode  145 score 200.0  best score 200.0 avg_score 163.5\n"
     ]
    },
    {
     "name": "stderr",
     "output_type": "stream",
     "text": [
      "WARNING:absl:Found untraced functions such as dense_3_layer_call_fn, dense_3_layer_call_and_return_conditional_losses, dense_4_layer_call_fn, dense_4_layer_call_and_return_conditional_losses, dense_5_layer_call_fn while saving (showing 5 of 15). These functions will not be directly callable after loading.\n"
     ]
    },
    {
     "name": "stdout",
     "output_type": "stream",
     "text": [
      "INFO:tensorflow:Assets written to: D:/Reinforcement Learning/My codes/Policy Gradient/models/CartPole-v0/assets\n"
     ]
    },
    {
     "name": "stderr",
     "output_type": "stream",
     "text": [
      "INFO:tensorflow:Assets written to: D:/Reinforcement Learning/My codes/Policy Gradient/models/CartPole-v0/assets\n"
     ]
    },
    {
     "name": "stdout",
     "output_type": "stream",
     "text": [
      "... saving model...\n",
      "Episode  146 score 200.0  best score 200.0 avg_score 168.8\n"
     ]
    },
    {
     "name": "stderr",
     "output_type": "stream",
     "text": [
      "WARNING:absl:Found untraced functions such as dense_3_layer_call_fn, dense_3_layer_call_and_return_conditional_losses, dense_4_layer_call_fn, dense_4_layer_call_and_return_conditional_losses, dense_5_layer_call_fn while saving (showing 5 of 15). These functions will not be directly callable after loading.\n"
     ]
    },
    {
     "name": "stdout",
     "output_type": "stream",
     "text": [
      "INFO:tensorflow:Assets written to: D:/Reinforcement Learning/My codes/Policy Gradient/models/CartPole-v0/assets\n"
     ]
    },
    {
     "name": "stderr",
     "output_type": "stream",
     "text": [
      "INFO:tensorflow:Assets written to: D:/Reinforcement Learning/My codes/Policy Gradient/models/CartPole-v0/assets\n"
     ]
    },
    {
     "name": "stdout",
     "output_type": "stream",
     "text": [
      "... saving model...\n",
      "Episode  147 score 200.0  best score 200.0 avg_score 172.4\n",
      "Episode  148 score 51.0  best score 200.0 avg_score 165.8\n"
     ]
    },
    {
     "name": "stderr",
     "output_type": "stream",
     "text": [
      "WARNING:absl:Found untraced functions such as dense_3_layer_call_fn, dense_3_layer_call_and_return_conditional_losses, dense_4_layer_call_fn, dense_4_layer_call_and_return_conditional_losses, dense_5_layer_call_fn while saving (showing 5 of 15). These functions will not be directly callable after loading.\n"
     ]
    },
    {
     "name": "stdout",
     "output_type": "stream",
     "text": [
      "INFO:tensorflow:Assets written to: D:/Reinforcement Learning/My codes/Policy Gradient/models/CartPole-v0/assets\n"
     ]
    },
    {
     "name": "stderr",
     "output_type": "stream",
     "text": [
      "INFO:tensorflow:Assets written to: D:/Reinforcement Learning/My codes/Policy Gradient/models/CartPole-v0/assets\n"
     ]
    },
    {
     "name": "stdout",
     "output_type": "stream",
     "text": [
      "... saving model...\n",
      "Episode  149 score 200.0  best score 200.0 avg_score 165.8\n"
     ]
    },
    {
     "name": "stderr",
     "output_type": "stream",
     "text": [
      "WARNING:absl:Found untraced functions such as dense_3_layer_call_fn, dense_3_layer_call_and_return_conditional_losses, dense_4_layer_call_fn, dense_4_layer_call_and_return_conditional_losses, dense_5_layer_call_fn while saving (showing 5 of 15). These functions will not be directly callable after loading.\n"
     ]
    },
    {
     "name": "stdout",
     "output_type": "stream",
     "text": [
      "INFO:tensorflow:Assets written to: D:/Reinforcement Learning/My codes/Policy Gradient/models/CartPole-v0/assets\n"
     ]
    },
    {
     "name": "stderr",
     "output_type": "stream",
     "text": [
      "INFO:tensorflow:Assets written to: D:/Reinforcement Learning/My codes/Policy Gradient/models/CartPole-v0/assets\n"
     ]
    },
    {
     "name": "stdout",
     "output_type": "stream",
     "text": [
      "... saving model...\n",
      "Episode  150 score 200.0  best score 200.0 avg_score 165.8\n"
     ]
    },
    {
     "name": "stderr",
     "output_type": "stream",
     "text": [
      "WARNING:absl:Found untraced functions such as dense_3_layer_call_fn, dense_3_layer_call_and_return_conditional_losses, dense_4_layer_call_fn, dense_4_layer_call_and_return_conditional_losses, dense_5_layer_call_fn while saving (showing 5 of 15). These functions will not be directly callable after loading.\n"
     ]
    },
    {
     "name": "stdout",
     "output_type": "stream",
     "text": [
      "INFO:tensorflow:Assets written to: D:/Reinforcement Learning/My codes/Policy Gradient/models/CartPole-v0/assets\n"
     ]
    },
    {
     "name": "stderr",
     "output_type": "stream",
     "text": [
      "INFO:tensorflow:Assets written to: D:/Reinforcement Learning/My codes/Policy Gradient/models/CartPole-v0/assets\n"
     ]
    },
    {
     "name": "stdout",
     "output_type": "stream",
     "text": [
      "... saving model...\n",
      "Episode  151 score 200.0  best score 200.0 avg_score 165.8\n"
     ]
    },
    {
     "name": "stderr",
     "output_type": "stream",
     "text": [
      "WARNING:absl:Found untraced functions such as dense_3_layer_call_fn, dense_3_layer_call_and_return_conditional_losses, dense_4_layer_call_fn, dense_4_layer_call_and_return_conditional_losses, dense_5_layer_call_fn while saving (showing 5 of 15). These functions will not be directly callable after loading.\n"
     ]
    },
    {
     "name": "stdout",
     "output_type": "stream",
     "text": [
      "INFO:tensorflow:Assets written to: D:/Reinforcement Learning/My codes/Policy Gradient/models/CartPole-v0/assets\n"
     ]
    },
    {
     "name": "stderr",
     "output_type": "stream",
     "text": [
      "INFO:tensorflow:Assets written to: D:/Reinforcement Learning/My codes/Policy Gradient/models/CartPole-v0/assets\n"
     ]
    },
    {
     "name": "stdout",
     "output_type": "stream",
     "text": [
      "... saving model...\n",
      "Episode  152 score 200.0  best score 200.0 avg_score 168.2\n"
     ]
    },
    {
     "name": "stderr",
     "output_type": "stream",
     "text": [
      "WARNING:absl:Found untraced functions such as dense_3_layer_call_fn, dense_3_layer_call_and_return_conditional_losses, dense_4_layer_call_fn, dense_4_layer_call_and_return_conditional_losses, dense_5_layer_call_fn while saving (showing 5 of 15). These functions will not be directly callable after loading.\n"
     ]
    },
    {
     "name": "stdout",
     "output_type": "stream",
     "text": [
      "INFO:tensorflow:Assets written to: D:/Reinforcement Learning/My codes/Policy Gradient/models/CartPole-v0/assets\n"
     ]
    },
    {
     "name": "stderr",
     "output_type": "stream",
     "text": [
      "INFO:tensorflow:Assets written to: D:/Reinforcement Learning/My codes/Policy Gradient/models/CartPole-v0/assets\n"
     ]
    },
    {
     "name": "stdout",
     "output_type": "stream",
     "text": [
      "... saving model...\n",
      "Episode  153 score 200.0  best score 200.0 avg_score 170.8\n"
     ]
    },
    {
     "name": "stderr",
     "output_type": "stream",
     "text": [
      "WARNING:absl:Found untraced functions such as dense_3_layer_call_fn, dense_3_layer_call_and_return_conditional_losses, dense_4_layer_call_fn, dense_4_layer_call_and_return_conditional_losses, dense_5_layer_call_fn while saving (showing 5 of 15). These functions will not be directly callable after loading.\n"
     ]
    },
    {
     "name": "stdout",
     "output_type": "stream",
     "text": [
      "INFO:tensorflow:Assets written to: D:/Reinforcement Learning/My codes/Policy Gradient/models/CartPole-v0/assets\n"
     ]
    },
    {
     "name": "stderr",
     "output_type": "stream",
     "text": [
      "INFO:tensorflow:Assets written to: D:/Reinforcement Learning/My codes/Policy Gradient/models/CartPole-v0/assets\n"
     ]
    },
    {
     "name": "stdout",
     "output_type": "stream",
     "text": [
      "... saving model...\n",
      "Episode  154 score 200.0  best score 200.0 avg_score 173.2\n",
      "Episode  155 score 197.0  best score 200.0 avg_score 174.4\n",
      "Episode  156 score 139.0  best score 200.0 avg_score 172.2\n"
     ]
    },
    {
     "name": "stderr",
     "output_type": "stream",
     "text": [
      "WARNING:absl:Found untraced functions such as dense_3_layer_call_fn, dense_3_layer_call_and_return_conditional_losses, dense_4_layer_call_fn, dense_4_layer_call_and_return_conditional_losses, dense_5_layer_call_fn while saving (showing 5 of 15). These functions will not be directly callable after loading.\n"
     ]
    },
    {
     "name": "stdout",
     "output_type": "stream",
     "text": [
      "INFO:tensorflow:Assets written to: D:/Reinforcement Learning/My codes/Policy Gradient/models/CartPole-v0/assets\n"
     ]
    },
    {
     "name": "stderr",
     "output_type": "stream",
     "text": [
      "INFO:tensorflow:Assets written to: D:/Reinforcement Learning/My codes/Policy Gradient/models/CartPole-v0/assets\n"
     ]
    },
    {
     "name": "stdout",
     "output_type": "stream",
     "text": [
      "... saving model...\n",
      "Episode  157 score 200.0  best score 200.0 avg_score 175.9\n"
     ]
    },
    {
     "name": "stderr",
     "output_type": "stream",
     "text": [
      "WARNING:absl:Found untraced functions such as dense_3_layer_call_fn, dense_3_layer_call_and_return_conditional_losses, dense_4_layer_call_fn, dense_4_layer_call_and_return_conditional_losses, dense_5_layer_call_fn while saving (showing 5 of 15). These functions will not be directly callable after loading.\n"
     ]
    },
    {
     "name": "stdout",
     "output_type": "stream",
     "text": [
      "INFO:tensorflow:Assets written to: D:/Reinforcement Learning/My codes/Policy Gradient/models/CartPole-v0/assets\n"
     ]
    },
    {
     "name": "stderr",
     "output_type": "stream",
     "text": [
      "INFO:tensorflow:Assets written to: D:/Reinforcement Learning/My codes/Policy Gradient/models/CartPole-v0/assets\n"
     ]
    },
    {
     "name": "stdout",
     "output_type": "stream",
     "text": [
      "... saving model...\n",
      "Episode  158 score 200.0  best score 200.0 avg_score 176.8\n",
      "Episode  159 score 198.0  best score 200.0 avg_score 177.1\n",
      "Episode  160 score 127.0  best score 200.0 avg_score 173.9\n",
      "Episode  161 score 128.0  best score 200.0 avg_score 171.4\n",
      "Episode  162 score 111.0  best score 200.0 avg_score 167.0\n"
     ]
    },
    {
     "name": "stderr",
     "output_type": "stream",
     "text": [
      "WARNING:absl:Found untraced functions such as dense_3_layer_call_fn, dense_3_layer_call_and_return_conditional_losses, dense_4_layer_call_fn, dense_4_layer_call_and_return_conditional_losses, dense_5_layer_call_fn while saving (showing 5 of 15). These functions will not be directly callable after loading.\n"
     ]
    },
    {
     "name": "stdout",
     "output_type": "stream",
     "text": [
      "INFO:tensorflow:Assets written to: D:/Reinforcement Learning/My codes/Policy Gradient/models/CartPole-v0/assets\n"
     ]
    },
    {
     "name": "stderr",
     "output_type": "stream",
     "text": [
      "INFO:tensorflow:Assets written to: D:/Reinforcement Learning/My codes/Policy Gradient/models/CartPole-v0/assets\n"
     ]
    },
    {
     "name": "stdout",
     "output_type": "stream",
     "text": [
      "... saving model...\n",
      "Episode  163 score 200.0  best score 200.0 avg_score 173.2\n"
     ]
    },
    {
     "name": "stderr",
     "output_type": "stream",
     "text": [
      "WARNING:absl:Found untraced functions such as dense_3_layer_call_fn, dense_3_layer_call_and_return_conditional_losses, dense_4_layer_call_fn, dense_4_layer_call_and_return_conditional_losses, dense_5_layer_call_fn while saving (showing 5 of 15). These functions will not be directly callable after loading.\n"
     ]
    },
    {
     "name": "stdout",
     "output_type": "stream",
     "text": [
      "INFO:tensorflow:Assets written to: D:/Reinforcement Learning/My codes/Policy Gradient/models/CartPole-v0/assets\n"
     ]
    },
    {
     "name": "stderr",
     "output_type": "stream",
     "text": [
      "INFO:tensorflow:Assets written to: D:/Reinforcement Learning/My codes/Policy Gradient/models/CartPole-v0/assets\n"
     ]
    },
    {
     "name": "stdout",
     "output_type": "stream",
     "text": [
      "... saving model...\n",
      "Episode  164 score 200.0  best score 200.0 avg_score 177.6\n",
      "Episode  165 score 131.0  best score 200.0 avg_score 174.1\n",
      "Episode  166 score 166.0  best score 200.0 avg_score 172.4\n",
      "Episode  167 score 131.0  best score 200.0 avg_score 168.9\n",
      "Episode  168 score 135.0  best score 200.0 avg_score 173.2\n",
      "Episode  169 score 153.0  best score 200.0 avg_score 170.8\n",
      "Episode  170 score 149.0  best score 200.0 avg_score 168.2\n",
      "Episode  171 score 131.0  best score 200.0 avg_score 164.8\n",
      "Episode  172 score 150.0  best score 200.0 avg_score 162.3\n",
      "Episode  173 score 16.0  best score 200.0 avg_score 153.1\n",
      "Episode  174 score 115.0  best score 200.0 avg_score 148.8\n",
      "Episode  175 score 112.0  best score 200.0 avg_score 144.6\n",
      "Episode  176 score 157.0  best score 200.0 avg_score 145.5\n",
      "Episode  177 score 123.0  best score 200.0 avg_score 141.7\n",
      "Episode  178 score 127.0  best score 200.0 avg_score 138.0\n",
      "Episode  179 score 101.0  best score 200.0 avg_score 133.2\n",
      "Episode  180 score 98.0  best score 200.0 avg_score 131.7\n",
      "Episode  181 score 12.0  best score 200.0 avg_score 125.9\n",
      "Episode  182 score 29.0  best score 200.0 avg_score 121.8\n",
      "Episode  183 score 106.0  best score 200.0 avg_score 117.1\n",
      "Episode  184 score 41.0  best score 200.0 avg_score 109.2\n",
      "Episode  185 score 53.0  best score 200.0 avg_score 105.2\n",
      "Episode  186 score 87.0  best score 200.0 avg_score 101.3\n",
      "Episode  187 score 22.0  best score 200.0 avg_score 95.8\n",
      "Episode  188 score 125.0  best score 200.0 avg_score 95.3\n",
      "Episode  189 score 112.0  best score 200.0 avg_score 93.3\n",
      "Episode  190 score 108.0  best score 200.0 avg_score 91.2\n",
      "Episode  191 score 95.0  best score 200.0 avg_score 89.5\n",
      "Episode  192 score 91.0  best score 200.0 avg_score 86.5\n",
      "Episode  193 score 83.0  best score 200.0 avg_score 89.8\n",
      "Episode  194 score 40.0  best score 200.0 avg_score 86.1\n",
      "Episode  195 score 55.0  best score 200.0 avg_score 83.2\n",
      "Episode  196 score 17.0  best score 200.0 avg_score 76.2\n",
      "Episode  197 score 91.0  best score 200.0 avg_score 74.7\n",
      "Episode  198 score 37.0  best score 200.0 avg_score 70.2\n",
      "Episode  199 score 83.0  best score 200.0 avg_score 69.2\n"
     ]
    },
    {
     "data": {
      "image/png": "[encoded data removed]",
      "text/plain": [
       "<Figure size 432x288 with 1 Axes>"
      ]
     },
     "metadata": {
      "needs_background": "light"
     },
     "output_type": "display_data"
    }
   ],
   "source": [
    "if __name__ == '__main__':\n",
    "    algo = 'Policy Gradient'\n",
    "    directory = 'D:\\Reinforcement Learning\\My codes\\Policy Gradient/'    \n",
    "    env_name = 'CartPole-v0'\n",
    "    env = gym.make(env_name)\n",
    "    score_history = []\n",
    "    n_episodes = 200\n",
    "    load_checkpoint = True\n",
    "    train = True\n",
    "    \n",
    "    if(not os.path.exists(os.path.join(directory + 'models/',str(env_name)))):\n",
    "        os.makedirs(os.path.join(directory + 'models/',str(env_name)+'/'))\n",
    "    if(not os.path.exists(os.path.join(directory + 'plots/',str(env_name)))):\n",
    "        os.makedirs(os.path.join(directory + 'plots/',str(env_name)+'/'))\n",
    "    if(not os.path.exists(os.path.join(directory + 'pickle/',str(env_name)))):\n",
    "        os.makedirs(os.path.join(directory + 'pickle/',str(env_name)+'/'))\n",
    "    \n",
    "    model_file = directory + 'models/'+str(env_name)+'/'\n",
    "    plot_path = directory + 'plots/'+ str(env_name)+'/'\n",
    "    \n",
    "    agent = Agent(directory = directory, alpha= 0.0005, gamma = 0.99, n_actions= env.action_space.n, filename= model_file, algo = algo, env_name =env_name)\n",
    "    \n",
    "    prev_n_episode = 0\n",
    "    best_score = -np.inf\n",
    "    \n",
    "    if load_checkpoint:\n",
    "        agent.policy = agent.load_model()\n",
    "        score_history = pkl.load(agent.pklObj)\n",
    "        prev_n_episode = pkl.load(agent.pklObj)\n",
    "             \n",
    "    for i in range(prev_n_episode, n_episodes):\n",
    "        done = False\n",
    "        score = 0\n",
    "        observation = env.reset()\n",
    "        \n",
    "        while not done:\n",
    "            action = agent.choose_action(observation)\n",
    "            observation_, reward, done, info = env.step(action)\n",
    "            agent.store_transition(observation, action, reward)\n",
    "            \n",
    "            observation = observation_\n",
    "            score += reward\n",
    "            \n",
    "        score_history.append(score)\n",
    "        if train:\n",
    "            agent.learn()\n",
    "        \n",
    "        avg_score = np.mean(score_history[-20:])\n",
    "        \n",
    "        if train or (train and i == (n_episodes-1)):\n",
    "            if score >= best_score:\n",
    "                agent.save_model()\n",
    "                pkl.dump(score_history, agent.pklObj)\n",
    "                pkl.dump(i, agent.pklObj)\n",
    "                \n",
    "                best_score = score\n",
    "                \n",
    "        \n",
    "        print('Episode ',i, 'score %.1f ' %score, 'best score %.1f' %best_score,'avg_score %.1f' %avg_score )\n",
    "        \n",
    "    filename = plot_path + env_name+str(n_episodes)+'.png'\n",
    "    plotLearning(score_history, filename=filename, window = 20)\n",
    "    "
   ]
  }
 ],
 "metadata": {
  "interpreter": {
   "hash": "c34fa1ef26f870bf898be3f80151dfc7cfd794b7630c015fb4b60f1cf4ddf8a7"
  },
  "kernelspec": {
   "display_name": "Python 3.8.12 ('RL')",
   "language": "python",
   "name": "python3"
  },
  "language_info": {
   "codemirror_mode": {
    "name": "ipython",
    "version": 3
   },
   "file_extension": ".py",
   "mimetype": "text/x-python",
   "name": "python",
   "nbconvert_exporter": "python",
   "pygments_lexer": "ipython3",
   "version": "3.8.12"
  },
  "orig_nbformat": 4
 },
 "nbformat": 4,
 "nbformat_minor": 2
}
